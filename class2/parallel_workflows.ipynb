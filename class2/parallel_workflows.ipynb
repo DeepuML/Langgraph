{
 "cells": [
  {
   "cell_type": "code",
   "execution_count": 31,
   "id": "449d5984",
   "metadata": {},
   "outputs": [],
   "source": [
    "from langgraph.graph import StateGraph, START, END\n",
    "from typing import TypedDict\n",
    "from dotenv import load_dotenv\n",
    "from langchain_google_genai import ChatGoogleGenerativeAI "
   ]
  },
  {
   "cell_type": "code",
   "execution_count": 32,
   "id": "b0b8b93d",
   "metadata": {},
   "outputs": [
    {
     "data": {
      "text/plain": [
       "True"
      ]
     },
     "execution_count": 32,
     "metadata": {},
     "output_type": "execute_result"
    }
   ],
   "source": [
    "load_dotenv()"
   ]
  },
  {
   "cell_type": "code",
   "execution_count": 33,
   "id": "bf8316cd",
   "metadata": {},
   "outputs": [],
   "source": [
    "# create a state\n",
    "class BatsmanState(TypedDict):\n",
    "    runs: int \n",
    "    balls:int \n",
    "    fours:int \n",
    "    sixes:int \n",
    "\n",
    "    strike_rate: float\n",
    "    boundrypercent: float\n",
    "    ballsperboundary: float\n"
   ]
  },
  {
   "cell_type": "code",
   "execution_count": 34,
   "id": "1a333b36",
   "metadata": {},
   "outputs": [],
   "source": [
    "def calculate_strike_rate(state: BatsmanState) -> BatsmanState:\n",
    "    # strike rate\n",
    "    strike_rate = (state['runs'] / state['balls']) * 100\n",
    "    return {'strike_rate': strike_rate}"
   ]
  },
  {
   "cell_type": "code",
   "execution_count": 35,
   "id": "db99be66",
   "metadata": {},
   "outputs": [],
   "source": [
    "def calculate_ballsboundary(state: BatsmanState) -> BatsmanState: \n",
    "    # calculate balls per boundary\n",
    "    total_boundaries = state['fours'] + state['sixes']\n",
    "    balls_per_boundary = state['balls'] / total_boundaries if total_boundaries > 0 else 0\n",
    "    return {'ballsperboundary': balls_per_boundary}"
   ]
  },
  {
   "cell_type": "code",
   "execution_count": 36,
   "id": "7a6e3f88",
   "metadata": {},
   "outputs": [],
   "source": [
    "def calculate_boundary_percent(state: BatsmanState) -> BatsmanState:\n",
    "    # calculate boundary_percent\n",
    "    runs_from_boundaries = (state['fours'] * 4 + state['sixes'] * 6)\n",
    "    boundary_percent = (runs_from_boundaries / state['runs']) * 100 if state['runs'] > 0 else 0\n",
    "    return {'boundrypercent': boundary_percent}"
   ]
  },
  {
   "cell_type": "code",
   "execution_count": 37,
   "id": "0d97c117",
   "metadata": {},
   "outputs": [],
   "source": [
    "def summary(state: BatsmanState) -> BatsmanState:\n",
    "    # summary\n",
    "    summary = f\"\"\"Strike rate = {state.get('strike_rate', 0):.2f}\n",
    "Balls per boundary = {state.get('ballsperboundary', 0):.2f}\n",
    "Boundary Percent = {state.get('boundrypercent', 0):.2f}%\"\"\"\n",
    "    print(summary)\n",
    "    return state"
   ]
  },
  {
   "cell_type": "code",
   "execution_count": 38,
   "id": "f02b9290",
   "metadata": {},
   "outputs": [],
   "source": [
    "# create graph \n",
    "graph = StateGraph(BatsmanState)\n",
    "\n",
    "# add nodes\n",
    "graph.add_node('calculate_strike_rate', calculate_strike_rate)\n",
    "graph.add_node('calculate_boundary_percent', calculate_boundary_percent)\n",
    "graph.add_node('calculate_ballsboundary', calculate_ballsboundary)\n",
    "graph.add_node('summary', summary)\n",
    "\n",
    "# add edges\n",
    "graph.add_edge(START, 'calculate_strike_rate')\n",
    "graph.add_edge(START, 'calculate_ballsboundary')\n",
    "graph.add_edge(START, 'calculate_boundary_percent')\n",
    "\n",
    "graph.add_edge('calculate_strike_rate', 'summary')\n",
    "graph.add_edge('calculate_ballsboundary', 'summary')\n",
    "graph.add_edge('calculate_boundary_percent', 'summary')\n",
    "\n",
    "graph.add_edge('summary', END)\n",
    "\n",
    "# compile the graph\n",
    "workflow = graph.compile()"
   ]
  },
  {
   "cell_type": "code",
   "execution_count": 39,
   "id": "bf19e780",
   "metadata": {},
   "outputs": [
    {
     "name": "stdout",
     "output_type": "stream",
     "text": [
      "Strike rate = 200.00\n",
      "Balls per boundary = 5.00\n",
      "Boundary Percent = 48.00%\n"
     ]
    }
   ],
   "source": [
    "# execute the graph\n",
    "\n",
    "initial_state = {\n",
    "    'runs':100,\n",
    "    'balls' : 50,\n",
    "    'fours':6,\n",
    "    'sixes':4\n",
    "}\n",
    "\n",
    "final_state = workflow.invoke(initial_state)"
   ]
  },
  {
   "cell_type": "code",
   "execution_count": 40,
   "id": "92a26b7c",
   "metadata": {},
   "outputs": [
    {
     "data": {
      "image/png": "[encoded data removed]",
      "text/plain": [
       "<IPython.core.display.Image object>"
      ]
     },
     "execution_count": 40,
     "metadata": {},
     "output_type": "execute_result"
    }
   ],
   "source": [
    "from IPython.display import Image\n",
    "Image(workflow.get_graph().draw_mermaid_png())"
   ]
  },
  {
   "cell_type": "code",
   "execution_count": null,
   "id": "d7cc5637",
   "metadata": {},
   "outputs": [],
   "source": []
  }
 ],
 "metadata": {
  "kernelspec": {
   "display_name": "langchain",
   "language": "python",
   "name": "python3"
  },
  "language_info": {
   "codemirror_mode": {
    "name": "ipython",
    "version": 3
   },
   "file_extension": ".py",
   "mimetype": "text/x-python",
   "name": "python",
   "nbconvert_exporter": "python",
   "pygments_lexer": "ipython3",
   "version": "3.12.11"
  }
 },
 "nbformat": 4,
 "nbformat_minor": 5
}
